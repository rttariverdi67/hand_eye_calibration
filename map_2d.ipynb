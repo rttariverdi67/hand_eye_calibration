{
 "cells": [
  {
   "cell_type": "code",
   "execution_count": 1,
   "metadata": {},
   "outputs": [
    {
     "name": "stdout",
     "output_type": "stream",
     "text": [
      "Jupyter environment detected. Enabling Open3D WebVisualizer.\n",
      "[Open3D INFO] WebRTC GUI backend enabled.\n",
      "[Open3D INFO] WebRTCWindowSystem: HTTP handshake server disabled.\n"
     ]
    }
   ],
   "source": [
    "import sys, copy\n",
    "import open3d as o3d\n",
    "import numpy as np\n",
    "from sklearn.decomposition import PCA\n",
    "import pandas as pd\n",
    "from tqdm import tqdm\n",
    "import matplotlib.pyplot as plt\n",
    "\n",
    "\n",
    "sys.path.append('/home/rahim/Desktop/projects/mrob/build/mrobpy/')\n",
    "import mrob"
   ]
  },
  {
   "cell_type": "code",
   "execution_count": 2,
   "metadata": {},
   "outputs": [],
   "source": [
    "lab_cloud = o3d.io.read_point_cloud('./lab_cloud.pcd')"
   ]
  },
  {
   "cell_type": "code",
   "execution_count": null,
   "metadata": {},
   "outputs": [],
   "source": [
    "lab_cloud = lab_cloud.voxel_down_sample(voxel_size=0.05)\n",
    "cl, ind = lab_cloud.remove_statistical_outlier(nb_neighbors=20, std_ratio=2.0)\n",
    "lab_filtered = lab_cloud.select_by_index(ind)"
   ]
  },
  {
   "cell_type": "code",
   "execution_count": null,
   "metadata": {},
   "outputs": [],
   "source": [
    "# pca = PCA(n_components=3)\n",
    "# pca.fit(np.asarray(lab_filtered.points))\n",
    "\n",
    "# T_rect = mrob.geometry.SE3(mrob.geometry.SO3(pca.components_),np.zeros(3))\n",
    "\n",
    "# lab_rect = copy.deepcopy(lab_filtered).transform(T_rect.T())\n",
    "# np.save('T_rect_lab_cloud', T_rect.T())\n",
    "# # o3d.visualization.draw_geometries([lab_rect], window_name='rectified lab')"
   ]
  },
  {
   "cell_type": "code",
   "execution_count": 10,
   "metadata": {},
   "outputs": [],
   "source": [
    "T_rect = np.load('T_rect_lab_cloud.npy')\n",
    "T_rect = mrob.geometry.SE3(T_rect)\n"
   ]
  },
  {
   "cell_type": "code",
   "execution_count": 11,
   "metadata": {},
   "outputs": [],
   "source": [
    "def quat_to_SE3(quat_pose):\n",
    "    \n",
    "    rot_4x1 = quat_pose[-4:]\n",
    "    tra_3x1 = quat_pose[1:4]\n",
    "\n",
    "    rot = mrob.geometry.quat_to_so3(rot_4x1)\n",
    "    pose = mrob.geometry.SE3(mrob.geometry.SO3(rot),tra_3x1)\n",
    "\n",
    "    return pose"
   ]
  },
  {
   "cell_type": "code",
   "execution_count": 12,
   "metadata": {},
   "outputs": [],
   "source": [
    "FT_C_azure = np.load('./FT_C_azure.npy')\n",
    "FT_C_azure = mrob.geometry.SE3(FT_C_azure)\n",
    "FT_C_s20 = np.load('./FT_C_s20.npy')\n",
    "FT_C_s20 = mrob.geometry.SE3(FT_C_s20)\n"
   ]
  },
  {
   "cell_type": "code",
   "execution_count": 8,
   "metadata": {},
   "outputs": [],
   "source": [
    "mobile_pose_dir = '/home/rahim/patata/datasets/navigine/mocab/apriltag/mobile/new/15November/mobile_color_gt.csv'\n",
    "mob_poses = pd.read_csv(mobile_pose_dir, header=None, sep=\"\\s+\")\n",
    "mob_quat = np.array([list(map(float, np.asarray(each)[0].split(\",\")[:-2])) for _,each in mob_poses.iterrows()])\n",
    "mob_mocap = np.zeros((mob_quat.shape[0],4,4))\n",
    "for i in range(len(mob_quat)):\n",
    "    pos = T_rect * quat_to_SE3(mob_quat[i,:]) * FT_C_s20\n",
    "    mob_mocap[i,:,:] = pos.T()\n",
    "\n",
    "azure_pose_dir = '/home/rahim/patata/datasets/navigine/mocab/apriltag/Azure/mocap/Azure_mocap_apriltag_color_gt.csv'\n",
    "azure_poses = pd.read_csv(azure_pose_dir, header=None, sep=\"\\s+\")\n",
    "azu_quat = np.array([each for _,each in azure_poses.iterrows()])\n",
    "azu_mocap = np.zeros((azu_quat.shape[0],4,4))\n",
    "for i in range(len(azu_quat)):\n",
    "    pos_ = T_rect * quat_to_SE3(azu_quat[i,:]) * FT_C_azure\n",
    "    azu_mocap[i,:,:] = pos_.T()\n",
    "\n"
   ]
  },
  {
   "cell_type": "code",
   "execution_count": 9,
   "metadata": {},
   "outputs": [],
   "source": [
    "def ax(pose, size=0.1):\n",
    "    axis = o3d.geometry.TriangleMesh.create_coordinate_frame(size=size)\n",
    "    return axis.transform(pose)"
   ]
  },
  {
   "cell_type": "code",
   "execution_count": null,
   "metadata": {},
   "outputs": [],
   "source": [
    "azu_axs = [ax(pose, 0.1) for pose in azu_mocap]\n",
    "mob_axs = [ax(pose, 0.3) for pose in mob_mocap]\n"
   ]
  },
  {
   "cell_type": "code",
   "execution_count": null,
   "metadata": {},
   "outputs": [],
   "source": [
    "o3d.visualization.draw_geometries(azu_axs[::50] + mob_axs[::50], window_name='poses')"
   ]
  },
  {
   "cell_type": "code",
   "execution_count": 13,
   "metadata": {},
   "outputs": [
    {
     "name": "stdout",
     "output_type": "stream",
     "text": [
      "z-axis maximum value:  2.3941586017608643\n",
      "z-axis minimum value:  0.8384666442871094\n"
     ]
    }
   ],
   "source": [
    "Points = np.asarray(lab_rect.points)\n",
    "Colors = np.asarray(lab_rect.colors)\n",
    "x,y,z = np.asarray(lab_rect.points).T\n",
    "print('z-axis maximum value: ', z.max())\n",
    "print('z-axis minimum value: ', z.min())"
   ]
  },
  {
   "cell_type": "code",
   "execution_count": null,
   "metadata": {},
   "outputs": [],
   "source": [
    "points_ = list()\n",
    "colors_ = list()\n",
    "\n",
    "for x_, y_, z_, point, color in zip(x,y,z, Points, tqdm(Colors)):\n",
    "    ## specify z-axis threshold to remove top and down points \n",
    "    \n",
    "    if z_ < z.max()-1 and z_>z.min()+1:   \n",
    "        points_.append(point)\n",
    "        colors_.append(color)\n",
    "\n",
    "points = np.asarray(points_)\n",
    "# points[:,2] = 0 # project all points to z=0\n",
    "colors = np.asarray(colors_)\n",
    "\n",
    "lab_rect_walls = o3d.geometry.PointCloud()\n",
    "lab_rect_walls.points = o3d.utility.Vector3dVector(points)\n",
    "lab_rect_walls.colors = o3d.utility.Vector3dVector(colors)"
   ]
  },
  {
   "cell_type": "code",
   "execution_count": null,
   "metadata": {},
   "outputs": [],
   "source": [
    "# o3d.visualization.draw_geometries([lab_rect_walls] + azu_axs[::50] + mob_axs[::50])"
   ]
  },
  {
   "cell_type": "code",
   "execution_count": null,
   "metadata": {},
   "outputs": [],
   "source": [
    "# o3d.visualization.draw_geometries([lab_rect_walls], window_name='lab_rect_walls')\n",
    "# o3d.io.write_point_cloud('lab_rect_walls.pcd', lab_rect_walls)"
   ]
  },
  {
   "cell_type": "code",
   "execution_count": 14,
   "metadata": {},
   "outputs": [],
   "source": [
    "lab_rect_walls = o3d.io.read_point_cloud('lab_rect_walls.pcd')"
   ]
  },
  {
   "cell_type": "code",
   "execution_count": 15,
   "metadata": {},
   "outputs": [],
   "source": [
    "import matplotlib.pylab as pl\n",
    "# import torch\n",
    "# import numpy as np\n",
    "# import matplotlib.pyplot as plt\n",
    "# import cv2\n",
    "# from torchvision.transforms import functional as F\n",
    "# import warnings\n",
    "# import open3d as o3d\n",
    "import math\n",
    "\n",
    "# warnings.filterwarnings(\"ignore\")\n",
    "\n",
    "\n",
    "def read_map(args):\n",
    "    _map = o3d.io.read_point_cloud(args['map_points_pcd'])\n",
    "    map_points = np.asarray(_map.points)\n",
    "    map_colors = np.asarray(_map.colors)  # colors (r, g, b)\n",
    "\n",
    "    return map_points, map_colors\n",
    "\n",
    "\n",
    "def plot_map(\n",
    "    fig,\n",
    "    axd,\n",
    "    ind,\n",
    "    refined_poses_x_coords,\n",
    "    refined_poses_y_coords,\n",
    "    refined_poses_dx,\n",
    "    refined_poses_dy,\n",
    "    rect_pcd=lab_rect_walls,\n",
    "):\n",
    "\n",
    "    # axd[\"query\"].imshow(cv2.cvtColor(query, cv2.COLOR_BGR2RGB))\n",
    "    colors = pl.cm.gray(np.linspace(0.95, 0, 10))\n",
    "    if len(refined_poses_x_coords) > 1:\n",
    "\n",
    "        for i in range(len(refined_poses_y_coords) - 1):\n",
    "            axd[\"map\"].plot(\n",
    "                refined_poses_x_coords[i : i + 2],\n",
    "                refined_poses_y_coords[i : i + 2],\n",
    "                linewidth=4,\n",
    "                color=colors[i],\n",
    "            )\n",
    "            axd[\"map\"].scatter(\n",
    "                refined_poses_x_coords[i : i + 2],\n",
    "                refined_poses_y_coords[i : i + 2],\n",
    "                color=colors[i],\n",
    "                s=30,\n",
    "                label=\"estimate_pose\",\n",
    "                cmap=plt.get_cmap(\"Greens\"),\n",
    "                marker=\"x\",\n",
    "            )\n",
    "        axd[\"map\"].arrow(\n",
    "            refined_poses_x_coords[-1],\n",
    "            refined_poses_y_coords[-1],\n",
    "            refined_poses_dx[-1],\n",
    "            refined_poses_dy[-1],\n",
    "            width=0.2,\n",
    "            alpha=0.7,\n",
    "            color=\"red\",\n",
    "            head_width=0.4,\n",
    "            head_length=math.sqrt(\n",
    "                refined_poses_dx[-1] ** 2 + refined_poses_dy[-1] ** 2\n",
    "            ),\n",
    "            length_includes_head=True,\n",
    "            head_starts_at_zero=False,\n",
    "        )\n",
    "    else:\n",
    "        axd[\"map\"].scatter(\n",
    "            refined_poses_x_coords[0],\n",
    "            refined_poses_y_coords[0],\n",
    "            color=colors[0],\n",
    "            s=50,\n",
    "            label=\"estimate_pose\",\n",
    "            cmap=plt.get_cmap(\"Greens\"),\n",
    "            marker=\"x\",\n",
    "        )\n",
    "        axd[\"map\"].arrow(\n",
    "            refined_poses_x_coords[0],\n",
    "            refined_poses_y_coords[0],\n",
    "            refined_poses_dx[0],\n",
    "            refined_poses_dy[0],\n",
    "            width=0.2,\n",
    "            alpha=0.7,\n",
    "            color=\"red\",\n",
    "            head_width=0.4,\n",
    "            head_length=math.sqrt(refined_poses_dx[0] ** 2 + refined_poses_dy[0] ** 2),\n",
    "            length_includes_head=True,\n",
    "            head_starts_at_zero=False,\n",
    "        )\n",
    "    map_final_point = np.asarray(rect_pcd.points)\n",
    "    map_final_color = np.asarray(rect_pcd.colors)\n",
    "\n",
    "    axd[\"map\"].scatter(\n",
    "                map_final_point[:, 0],\n",
    "                map_final_point[:, 1],\n",
    "                color=map_final_color,\n",
    "                marker=\".\",\n",
    "                alpha=1,\n",
    "                s=10\n",
    "                )\n"
   ]
  },
  {
   "cell_type": "code",
   "execution_count": 16,
   "metadata": {},
   "outputs": [],
   "source": [
    "x_coords = []\n",
    "y_coords = []\n",
    "dx, dy = [], []"
   ]
  },
  {
   "cell_type": "code",
   "execution_count": 17,
   "metadata": {},
   "outputs": [],
   "source": [
    "def _append(stack, item, history_len=10):\n",
    "    if len(stack) < history_len:\n",
    "        stack.append(item)\n",
    "    else:\n",
    "        stack.pop(0)\n",
    "        stack.append(item)\n",
    "    return stack"
   ]
  },
  {
   "cell_type": "code",
   "execution_count": 18,
   "metadata": {},
   "outputs": [
    {
     "name": "stderr",
     "output_type": "stream",
     "text": [
      "  0%|          | 0/162 [00:00<?, ?it/s]/tmp/ipykernel_6713/577929652.py:69: UserWarning: No data for colormapping provided via 'c'. Parameters 'cmap' will be ignored\n",
      "  axd[\"map\"].scatter(\n",
      "  1%|          | 1/162 [00:00<02:14,  1.20it/s]/tmp/ipykernel_6713/577929652.py:44: UserWarning: No data for colormapping provided via 'c'. Parameters 'cmap' will be ignored\n",
      "  axd[\"map\"].scatter(\n",
      "100%|██████████| 162/162 [02:28<00:00,  1.09it/s]\n"
     ]
    }
   ],
   "source": [
    "for index, eachPose in enumerate(tqdm(mob_mocap[::15])):\n",
    "    origin = eachPose @ np.array([0, 0, 0, 1])\n",
    "    z_axis = eachPose @ np.array([0, 0, 1, 1])\n",
    "\n",
    "    x_coords = _append(x_coords, origin[0])\n",
    "    y_coords = _append(y_coords, origin[1])\n",
    "\n",
    "    dx = _append(dx, z_axis[0] - origin[0])\n",
    "    dy = _append(dy, z_axis[1] - origin[1])\n",
    "\n",
    "    fig, axd = plt.subplot_mosaic(\n",
    "        [[\"map\"]],\n",
    "        figsize=(14, 10),\n",
    "        constrained_layout=True,\n",
    "    )\n",
    "    plot_map(\n",
    "        fig,\n",
    "        axd,\n",
    "        index,\n",
    "        x_coords,\n",
    "        y_coords,\n",
    "        dx,\n",
    "        dy,\n",
    "    )\n",
    "    plt.savefig(\n",
    "        \"./2dplots/s20/{:04d}.png\".format(\n",
    "            index\n",
    "        ),\n",
    "        dpi=70,\n",
    "    )\n",
    "    plt.close(fig)\n",
    "    fig.clf()\n",
    "    # break"
   ]
  },
  {
   "cell_type": "code",
   "execution_count": null,
   "metadata": {},
   "outputs": [],
   "source": []
  }
 ],
 "metadata": {
  "kernelspec": {
   "display_name": "Python 3.10.7 64-bit",
   "language": "python",
   "name": "python3"
  },
  "language_info": {
   "codemirror_mode": {
    "name": "ipython",
    "version": 3
   },
   "file_extension": ".py",
   "mimetype": "text/x-python",
   "name": "python",
   "nbconvert_exporter": "python",
   "pygments_lexer": "ipython3",
   "version": "3.10.7"
  },
  "orig_nbformat": 4,
  "vscode": {
   "interpreter": {
    "hash": "31f2aee4e71d21fbe5cf8b01ff0e069b9275f58929596ceb00d14d90e3e16cd6"
   }
  }
 },
 "nbformat": 4,
 "nbformat_minor": 2
}
